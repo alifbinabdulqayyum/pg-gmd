{
 "cells": [
  {
   "cell_type": "code",
   "execution_count": null,
   "id": "e2b9dc0f",
   "metadata": {},
   "outputs": [],
   "source": [
    "from weighted_retraining.chem.jtnn import Vocab\n",
    "from weighted_retraining.chem.chem_model import JTVAE\n",
    "import torch\n",
    "from tqdm import tqdm\n",
    "import numpy as np\n",
    "import os\n",
    "import rdkit"
   ]
  },
  {
   "cell_type": "code",
   "execution_count": null,
   "id": "e5bf576d",
   "metadata": {},
   "outputs": [],
   "source": [
    "result_dir = \"./sample-results\"\n",
    "os.makedirs(result_dir, exist_ok=True)"
   ]
  },
  {
   "cell_type": "code",
   "execution_count": null,
   "id": "52c1ce3a",
   "metadata": {},
   "outputs": [],
   "source": [
    "# Load vocab\n",
    "vocab_file = \"./data/chem/orig_model/vocab.txt\"\n",
    "with open(vocab_file) as f:\n",
    "    vocab = Vocab([x.strip() for x in f.readlines()])"
   ]
  },
  {
   "cell_type": "code",
   "execution_count": null,
   "id": "b648630f",
   "metadata": {},
   "outputs": [],
   "source": [
    "# Make rdkit be quiet\n",
    "def rdkit_quiet():\n",
    "    lg = rdkit.RDLogger.logger()\n",
    "    lg.setLevel(rdkit.RDLogger.CRITICAL)\n",
    "    \n",
    "rdkit_quiet()"
   ]
  },
  {
   "cell_type": "code",
   "execution_count": null,
   "id": "fb428d41",
   "metadata": {},
   "outputs": [],
   "source": [
    "samples_per_iter = 5000\n",
    "z_sample = torch.randn(samples_per_iter, 56, device=torch.device(\"cuda\"))"
   ]
  },
  {
   "cell_type": "code",
   "execution_count": null,
   "id": "6818bf92",
   "metadata": {},
   "outputs": [],
   "source": [
    "# Set up results tracking\n",
    "results = dict(\n",
    "    sample_points=[],\n",
    "    sample_versions=[],\n",
    ")\n",
    "# Load model\n",
    "model = JTVAE.load_from_checkpoint(\n",
    "    \"./data/models/chem.ckpt\", \n",
    "    vocab=vocab\n",
    ").cuda()\n",
    "\n",
    "# Decode all points in a fixed decoding radius\n",
    "z_decode = []\n",
    "batch_size = 1\n",
    "with tqdm(total=len(z_sample)) as pbar:\n",
    "    for j in range(0, len(z_sample), batch_size):\n",
    "        pbar.set_description(\"decoding with uniform weighted model\")\n",
    "        with torch.no_grad():\n",
    "            z_batch = z_sample[j : j + batch_size]\n",
    "            smiles_out = model.decode_deterministic(z_batch)\n",
    "            pbar.update(z_batch.shape[0])\n",
    "        z_decode += smiles_out\n",
    "\n",
    "results[\"sample_points\"].append(z_decode)\n",
    "# results[\"sample_versions\"].append(retrain)\n",
    "\n",
    "# Save results\n",
    "np.savez_compressed(os.path.join(result_dir, \"results-uniform-weight.npz\"), **results)"
   ]
  },
  {
   "cell_type": "code",
   "execution_count": null,
   "id": "83cac049",
   "metadata": {},
   "outputs": [],
   "source": [
    "# seed should be the same as for training\n",
    "seed = 730007773"
   ]
  },
  {
   "cell_type": "code",
   "execution_count": null,
   "id": "822eae4e",
   "metadata": {},
   "outputs": [],
   "source": [
    "for pathway_model in [\"viable\", \"modified\", \"impractical\"]:\n",
    "    for k in [3, 4, 5, 6]:\n",
    "        # Set up results tracking\n",
    "        results = dict(\n",
    "            sample_points=[],\n",
    "            sample_versions=[],\n",
    "        )\n",
    "\n",
    "        for idx, retrain in enumerate(np.arange(0,500,50)):\n",
    "            # Load model\n",
    "            model = JTVAE.load_from_checkpoint(\n",
    "                \"./logs/bo/chem_therapeutic_score_{}/rank/k_1e-{}/r_50/seed{}/retraining/retrain_{}/checkpoints/last.ckpt\".format(pathway_model, k, seed, retrain), \n",
    "                vocab=vocab\n",
    "            ).cuda()\n",
    "\n",
    "            # Decode all points in a fixed decoding radius\n",
    "            z_decode = []\n",
    "            batch_size = 1\n",
    "            with tqdm(total=len(z_sample)) as pbar:\n",
    "                for j in range(0, len(z_sample), batch_size):\n",
    "                    pbar.set_description(\"decoding with retrain iteration \"+ str(idx+1)+\" for \"+ pathway_model + \" pathway model and k \"+str(k))\n",
    "                    with torch.no_grad():\n",
    "                        z_batch = z_sample[j : j + batch_size]\n",
    "                        smiles_out = model.decode_deterministic(z_batch)\n",
    "                        pbar.update(z_batch.shape[0])\n",
    "                    z_decode += smiles_out\n",
    "\n",
    "            results[\"sample_points\"].append(z_decode)\n",
    "            results[\"sample_versions\"].append(retrain)\n",
    "\n",
    "            # Save results\n",
    "            np.savez_compressed(os.path.join(result_dir, \"results-{}-k-{}.npz\".format(pathway_model, k)), **results)"
   ]
  }
 ],
 "metadata": {
  "kernelspec": {
   "display_name": "GMD",
   "language": "python",
   "name": "python3"
  },
  "language_info": {
   "codemirror_mode": {
    "name": "ipython",
    "version": 3
   },
   "file_extension": ".py",
   "mimetype": "text/x-python",
   "name": "python",
   "nbconvert_exporter": "python",
   "pygments_lexer": "ipython3",
   "version": "3.7.10"
  }
 },
 "nbformat": 4,
 "nbformat_minor": 5
}
