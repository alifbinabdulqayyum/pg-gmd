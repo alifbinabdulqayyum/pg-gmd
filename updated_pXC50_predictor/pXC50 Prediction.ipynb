{
 "cells": [
  {
   "cell_type": "code",
   "execution_count": 1,
   "id": "d3391b7c",
   "metadata": {},
   "outputs": [
    {
     "name": "stderr",
     "output_type": "stream",
     "text": [
      "DEBUG:ATOM:Model tracker client not supported in your environment; will save models in filesystem only.\n"
     ]
    }
   ],
   "source": [
    "import matplotlib.pyplot as plt\n",
    "import seaborn as sns\n",
    "import numpy as np\n",
    "import os.path\n",
    "sns.set_context(\"poster\")\n",
    "sns.set_style(\"whitegrid\")\n",
    "sns.set_palette(\"Set2\")\n",
    "pal = sns.color_palette()\n",
    "\n",
    "import pandas as pd\n",
    "import sys\n",
    "import umap\n",
    "\n",
    "from rdkit import Chem\n",
    "from atomsci.ddm.pipeline import model_pipeline as mp\n",
    "from atomsci.ddm.pipeline import parameter_parser as parse\n",
    "import atomsci.ddm.utils.struct_utils as struct_utils\n",
    "import atomsci.ddm.pipeline.model_tracker as mt\n",
    "import atomsci.ddm.pipeline.chem_diversity as cd\n",
    "import atomsci.ddm.pipeline.predict_from_model as pfm\n",
    "import atomsci.ddm.pipeline.featurization as feat\n",
    "import atomsci.ddm.pipeline.diversity_plots as dp\n",
    "\n",
    "import warnings\n",
    "warnings.filterwarnings(action='once')\n",
    "from sklearn.metrics import roc_curve, auc, roc_auc_score, r2_score, precision_recall_curve, average_precision_score, confusion_matrix\n",
    "\n",
    "pd.set_option('display.max_rows', 20)\n",
    "pd.set_option('display.max_columns', 90)"
   ]
  },
  {
   "cell_type": "code",
   "execution_count": 2,
   "id": "0104b506",
   "metadata": {},
   "outputs": [],
   "source": [
    "p1_training_data_path = 'PARP1_gostar_2022-06-20_chembl_30_gostar_custom_2022-06-23_UCSF_pIC50_agg.csv'"
   ]
  },
  {
   "cell_type": "code",
   "execution_count": 3,
   "id": "5917f891",
   "metadata": {},
   "outputs": [],
   "source": [
    "p1_path = \"20230904_20220620_updated_PARP1_chembl_gostar_ucsf_pIC50_agg_model_d0e0add7-f76f-43df-880f-3c280af2501c.tar.gz\"\n",
    "# paths= [p1_path]\n",
    "models= ['PARP1_pXC50']\n",
    "feats = ['graphconv']"
   ]
  },
  {
   "cell_type": "code",
   "execution_count": 4,
   "id": "ddf3b3b2",
   "metadata": {},
   "outputs": [],
   "source": [
    "df=pd.read_csv(p1_training_data_path)"
   ]
  },
  {
   "cell_type": "code",
   "execution_count": 5,
   "id": "ee779b4f",
   "metadata": {},
   "outputs": [
    {
     "data": {
      "text/html": [
       "<div>\n",
       "<style scoped>\n",
       "    .dataframe tbody tr th:only-of-type {\n",
       "        vertical-align: middle;\n",
       "    }\n",
       "\n",
       "    .dataframe tbody tr th {\n",
       "        vertical-align: top;\n",
       "    }\n",
       "\n",
       "    .dataframe thead th {\n",
       "        text-align: right;\n",
       "    }\n",
       "</style>\n",
       "<table border=\"1\" class=\"dataframe\">\n",
       "  <thead>\n",
       "    <tr style=\"text-align: right;\">\n",
       "      <th></th>\n",
       "      <th>compound_id</th>\n",
       "      <th>base_rdkit_smiles</th>\n",
       "      <th>relation</th>\n",
       "      <th>activity_value</th>\n",
       "    </tr>\n",
       "  </thead>\n",
       "  <tbody>\n",
       "    <tr>\n",
       "      <th>0</th>\n",
       "      <td>gvk_121938715</td>\n",
       "      <td>Cc1cc2c(=O)[nH]c(-c3cnn(C(C)(C)C)c3)cn2c1</td>\n",
       "      <td>NaN</td>\n",
       "      <td>6.522879</td>\n",
       "    </tr>\n",
       "    <tr>\n",
       "      <th>1</th>\n",
       "      <td>gvk_122322701</td>\n",
       "      <td>CC(C)(O)c1ccc(-c2nn3cc(Cl)cc3c(=O)[nH]2)cc1</td>\n",
       "      <td>NaN</td>\n",
       "      <td>5.522879</td>\n",
       "    </tr>\n",
       "    <tr>\n",
       "      <th>2</th>\n",
       "      <td>Otava_1084099</td>\n",
       "      <td>Cc1oc2ccc(O)cc2c1C(=O)Nc1cc(Cl)ccc1Cl</td>\n",
       "      <td>NaN</td>\n",
       "      <td>4.444000</td>\n",
       "    </tr>\n",
       "    <tr>\n",
       "      <th>3</th>\n",
       "      <td>gvk_125398920</td>\n",
       "      <td>COc1cc(C=C2C(=O)N(C)C(=O)N(C)C2=O)cc(CN2CCOCC2...</td>\n",
       "      <td>NaN</td>\n",
       "      <td>7.381638</td>\n",
       "    </tr>\n",
       "    <tr>\n",
       "      <th>4</th>\n",
       "      <td>gvk_125378925</td>\n",
       "      <td>O=c1cc(-c2ccc(O)cc2)oc2c(CN3CCN(c4ccc(O)cc4)CC...</td>\n",
       "      <td>NaN</td>\n",
       "      <td>7.401209</td>\n",
       "    </tr>\n",
       "    <tr>\n",
       "      <th>...</th>\n",
       "      <td>...</td>\n",
       "      <td>...</td>\n",
       "      <td>...</td>\n",
       "      <td>...</td>\n",
       "    </tr>\n",
       "    <tr>\n",
       "      <th>9406</th>\n",
       "      <td>gvk_3823972</td>\n",
       "      <td>O=c1[nH]nc(CCCCN2CC=C(c3ccc(F)cc3)CC2)c2ccccc12</td>\n",
       "      <td>NaN</td>\n",
       "      <td>7.309804</td>\n",
       "    </tr>\n",
       "    <tr>\n",
       "      <th>9407</th>\n",
       "      <td>gvk_15323173</td>\n",
       "      <td>O=C(c1cccc(CCl)c1)N1CCc2c([nH]c(=O)c3ccccc23)C1</td>\n",
       "      <td>NaN</td>\n",
       "      <td>6.097453</td>\n",
       "    </tr>\n",
       "    <tr>\n",
       "      <th>9408</th>\n",
       "      <td>gvk_15327451</td>\n",
       "      <td>CCc1cc(-c2ccc(CNCc3cnn(C)c3)o2)c(C)[nH]c1=O</td>\n",
       "      <td>NaN</td>\n",
       "      <td>6.522879</td>\n",
       "    </tr>\n",
       "    <tr>\n",
       "      <th>9409</th>\n",
       "      <td>gvk_125440805</td>\n",
       "      <td>O=C1N(c2cncc(Cc3n[nH]c(=O)c4ccccc34)c2)c2ccccc...</td>\n",
       "      <td>&gt;</td>\n",
       "      <td>8.000000</td>\n",
       "    </tr>\n",
       "    <tr>\n",
       "      <th>9410</th>\n",
       "      <td>CHEMBL3317899</td>\n",
       "      <td>CC(=O)N1CCN(C(=O)c2csc(Cc3n[nH]c(=O)c4ccccc34)...</td>\n",
       "      <td>NaN</td>\n",
       "      <td>6.907982</td>\n",
       "    </tr>\n",
       "  </tbody>\n",
       "</table>\n",
       "<p>9411 rows × 4 columns</p>\n",
       "</div>"
      ],
      "text/plain": [
       "        compound_id                                  base_rdkit_smiles  \\\n",
       "0     gvk_121938715          Cc1cc2c(=O)[nH]c(-c3cnn(C(C)(C)C)c3)cn2c1   \n",
       "1     gvk_122322701        CC(C)(O)c1ccc(-c2nn3cc(Cl)cc3c(=O)[nH]2)cc1   \n",
       "2     Otava_1084099              Cc1oc2ccc(O)cc2c1C(=O)Nc1cc(Cl)ccc1Cl   \n",
       "3     gvk_125398920  COc1cc(C=C2C(=O)N(C)C(=O)N(C)C2=O)cc(CN2CCOCC2...   \n",
       "4     gvk_125378925  O=c1cc(-c2ccc(O)cc2)oc2c(CN3CCN(c4ccc(O)cc4)CC...   \n",
       "...             ...                                                ...   \n",
       "9406    gvk_3823972    O=c1[nH]nc(CCCCN2CC=C(c3ccc(F)cc3)CC2)c2ccccc12   \n",
       "9407   gvk_15323173    O=C(c1cccc(CCl)c1)N1CCc2c([nH]c(=O)c3ccccc23)C1   \n",
       "9408   gvk_15327451        CCc1cc(-c2ccc(CNCc3cnn(C)c3)o2)c(C)[nH]c1=O   \n",
       "9409  gvk_125440805  O=C1N(c2cncc(Cc3n[nH]c(=O)c4ccccc34)c2)c2ccccc...   \n",
       "9410  CHEMBL3317899  CC(=O)N1CCN(C(=O)c2csc(Cc3n[nH]c(=O)c4ccccc34)...   \n",
       "\n",
       "     relation  activity_value  \n",
       "0         NaN        6.522879  \n",
       "1         NaN        5.522879  \n",
       "2         NaN        4.444000  \n",
       "3         NaN        7.381638  \n",
       "4         NaN        7.401209  \n",
       "...       ...             ...  \n",
       "9406      NaN        7.309804  \n",
       "9407      NaN        6.097453  \n",
       "9408      NaN        6.522879  \n",
       "9409        >        8.000000  \n",
       "9410      NaN        6.907982  \n",
       "\n",
       "[9411 rows x 4 columns]"
      ]
     },
     "execution_count": 5,
     "metadata": {},
     "output_type": "execute_result"
    }
   ],
   "source": [
    "df"
   ]
  },
  {
   "cell_type": "code",
   "execution_count": 6,
   "id": "693715bc",
   "metadata": {},
   "outputs": [],
   "source": [
    "smiles = df['base_rdkit_smiles'][0]"
   ]
  },
  {
   "cell_type": "code",
   "execution_count": 7,
   "id": "757c3d40",
   "metadata": {},
   "outputs": [],
   "source": [
    "gen_smiles_df = pd.DataFrame(data={'smiles': smiles}, index=[0])"
   ]
  },
  {
   "cell_type": "code",
   "execution_count": 8,
   "id": "cc2b040c",
   "metadata": {},
   "outputs": [
    {
     "data": {
      "text/html": [
       "<div>\n",
       "<style scoped>\n",
       "    .dataframe tbody tr th:only-of-type {\n",
       "        vertical-align: middle;\n",
       "    }\n",
       "\n",
       "    .dataframe tbody tr th {\n",
       "        vertical-align: top;\n",
       "    }\n",
       "\n",
       "    .dataframe thead th {\n",
       "        text-align: right;\n",
       "    }\n",
       "</style>\n",
       "<table border=\"1\" class=\"dataframe\">\n",
       "  <thead>\n",
       "    <tr style=\"text-align: right;\">\n",
       "      <th></th>\n",
       "      <th>smiles</th>\n",
       "    </tr>\n",
       "  </thead>\n",
       "  <tbody>\n",
       "    <tr>\n",
       "      <th>0</th>\n",
       "      <td>Cc1cc2c(=O)[nH]c(-c3cnn(C(C)(C)C)c3)cn2c1</td>\n",
       "    </tr>\n",
       "  </tbody>\n",
       "</table>\n",
       "</div>"
      ],
      "text/plain": [
       "                                      smiles\n",
       "0  Cc1cc2c(=O)[nH]c(-c3cnn(C(C)(C)C)c3)cn2c1"
      ]
     },
     "execution_count": 8,
     "metadata": {},
     "output_type": "execute_result"
    }
   ],
   "source": [
    "gen_smiles_df"
   ]
  },
  {
   "cell_type": "code",
   "execution_count": 9,
   "id": "9d344a8f",
   "metadata": {},
   "outputs": [],
   "source": [
    "input_df = gen_smiles_df"
   ]
  },
  {
   "cell_type": "code",
   "execution_count": 10,
   "id": "85722af5",
   "metadata": {},
   "outputs": [],
   "source": [
    "smiles_col = 'smiles'"
   ]
  },
  {
   "cell_type": "code",
   "execution_count": 11,
   "id": "4f93d475",
   "metadata": {},
   "outputs": [],
   "source": [
    "dont_standardize = True # smiles have already been standardized\n",
    "AD_method = 'z_score'"
   ]
  },
  {
   "cell_type": "code",
   "execution_count": 12,
   "id": "113979ab",
   "metadata": {},
   "outputs": [],
   "source": [
    "is_featurized=False"
   ]
  },
  {
   "cell_type": "code",
   "execution_count": 13,
   "id": "51338378",
   "metadata": {},
   "outputs": [
    {
     "name": "stderr",
     "output_type": "stream",
     "text": [
      "INFO:atomsci.ddm.utils.model_version_utils:20230904_20220620_updated_PARP1_chembl_gostar_ucsf_pIC50_agg_model_d0e0add7-f76f-43df-880f-3c280af2501c.tar.gz, 1.6.0\n",
      "INFO:atomsci.ddm.utils.model_version_utils:Version compatible check: 20230904_20220620_updated_PARP1_chembl_gostar_ucsf_pIC50_agg_model_d0e0add7-f76f-43df-880f-3c280af2501c.tar.gz version = \"1.6.0\", AMPL version = \"1.6.0\"\n",
      "WARNING:ATOM:['ampl_version', 'time_generated', 'best_epoch', 'time_built', 'dataset_hash', 'dataset_metadata', 'production', 'training_metrics'] are not part of the accepted list of parameters and will be ignored\n"
     ]
    },
    {
     "name": "stdout",
     "output_type": "stream",
     "text": [
      "num_model_tasks is deprecated and its value is ignored.\n",
      "Featurization = DynamicFeaturization with graphconv features\n",
      "number of features: 75\n"
     ]
    }
   ],
   "source": [
    "pred_df = pfm.predict_from_model_file(model_path = p1_path, \n",
    "                                      id_col = None,\n",
    "                                      input_df=gen_smiles_df, \n",
    "                                      smiles_col=smiles_col,\n",
    "                                      dont_standardize=True, \n",
    "                                      is_featurized = is_featurized) #, \n",
    "                                      #AD_method=AD_method)"
   ]
  },
  {
   "cell_type": "code",
   "execution_count": 14,
   "id": "74c2ff98",
   "metadata": {},
   "outputs": [
    {
     "data": {
      "text/html": [
       "<div>\n",
       "<style scoped>\n",
       "    .dataframe tbody tr th:only-of-type {\n",
       "        vertical-align: middle;\n",
       "    }\n",
       "\n",
       "    .dataframe tbody tr th {\n",
       "        vertical-align: top;\n",
       "    }\n",
       "\n",
       "    .dataframe thead th {\n",
       "        text-align: right;\n",
       "    }\n",
       "</style>\n",
       "<table border=\"1\" class=\"dataframe\">\n",
       "  <thead>\n",
       "    <tr style=\"text-align: right;\">\n",
       "      <th></th>\n",
       "      <th>smiles</th>\n",
       "      <th>compound_id</th>\n",
       "      <th>activity_value_pred</th>\n",
       "    </tr>\n",
       "  </thead>\n",
       "  <tbody>\n",
       "    <tr>\n",
       "      <th>0</th>\n",
       "      <td>Cc1cc2c(=O)[nH]c(-c3cnn(C(C)(C)C)c3)cn2c1</td>\n",
       "      <td>compound_000000</td>\n",
       "      <td>5.217463</td>\n",
       "    </tr>\n",
       "  </tbody>\n",
       "</table>\n",
       "</div>"
      ],
      "text/plain": [
       "                                      smiles      compound_id  \\\n",
       "0  Cc1cc2c(=O)[nH]c(-c3cnn(C(C)(C)C)c3)cn2c1  compound_000000   \n",
       "\n",
       "   activity_value_pred  \n",
       "0             5.217463  "
      ]
     },
     "execution_count": 14,
     "metadata": {},
     "output_type": "execute_result"
    }
   ],
   "source": [
    "pred_df"
   ]
  },
  {
   "cell_type": "markdown",
   "id": "d4e27833",
   "metadata": {},
   "source": [
    "# Predict quicker"
   ]
  },
  {
   "cell_type": "code",
   "execution_count": 15,
   "id": "9662d949",
   "metadata": {},
   "outputs": [],
   "source": [
    "import pickle\n",
    "import numpy as np"
   ]
  },
  {
   "cell_type": "code",
   "execution_count": 16,
   "id": "0a05ae0e",
   "metadata": {},
   "outputs": [],
   "source": [
    "from atomsci.ddm.pipeline.predict_from_model import _prepare_input_data"
   ]
  },
  {
   "cell_type": "code",
   "execution_count": null,
   "id": "4e9b9b8a",
   "metadata": {},
   "outputs": [],
   "source": [
    "res_files = [f\"/home/alif/JTVAE/logs/bo/chem_pXC50/rank/k_1e-2/r_50/seed730007773/results.npz\",\n",
    "            f\"/home/alif/JTVAE/logs/bo/chem_pXC50/rank/k_1e-3/r_50/seed730007773/results.npz\",\n",
    "            f\"/home/alif/JTVAE/logs/bo/chem_pXC50/rank/k_1e-4/r_50/seed730007773/results.npz\",\n",
    "            f\"/home/alif/JTVAE/logs/bo/chem_pXC50/rank/k_1e-5/r_50/seed730007773/results.npz\",\n",
    "            f\"/home/alif/JTVAE/logs/bo/chem_pXC50/rank/k_1e-5/r_50/seed730007773/results.npz\"]\n",
    "\n",
    "all_smiles = []\n",
    "\n",
    "for res_file in res_files:\n",
    "    results = np.load(res_file, allow_pickle = True)\n",
    "\n",
    "    smiles = results['sample_points'].reshape((-1, ))\n",
    "\n",
    "    smiles = set(smiles)\n",
    "    if None in smiles:\n",
    "        smiles.remove(None)\n",
    "    print(len(smiles))\n",
    "    all_smiles.extend(list(smiles))"
   ]
  },
  {
   "cell_type": "code",
   "execution_count": null,
   "id": "7d5b7404",
   "metadata": {},
   "outputs": [],
   "source": [
    "import bionetgen\n",
    "import contextlib\n",
    "import os\n",
    "import pandas as pd\n",
    "\n",
    "import numpy as np\n",
    "\n",
    "import pickle\n",
    "\n",
    "from atomsci.ddm.pipeline import model_pipeline as mp\n",
    "from atomsci.ddm.pipeline import parameter_parser as parse\n",
    "\n",
    "xc_path = \"/home/alif/JTVAE/updated_pXC50_predictor/PARP1_CGUAgg_2022-06_fingerprint_graphconv_model_4f296899-1e4f-4d08-a7c5-47ef64d7fec3.tar.gz\"\n",
    "\n",
    "model_path = xc_path\n",
    "smiles_col = 'smiles'\n",
    "response_col = 'pXC50'\n",
    "dont_standardize = True\n",
    "is_featurized = False\n",
    "\n",
    "pred_params = {'featurizer': 'computed_descriptors', \n",
    "               'result_dir': None,\n",
    "               'id_col': 'compound_id', \n",
    "               'smiles_col': smiles_col,\n",
    "               'response_cols': response_col}\n",
    "\n",
    "pred_params = parse.wrapper(pred_params)\n",
    "          \n",
    "def get_pipeline(pred_params,model_path,reload_dir=None,verbose=False):\n",
    "    pipe = mp.create_prediction_pipeline_from_file(pred_params, \n",
    "                                               reload_dir=None, \n",
    "                                               model_path=model_path, \n",
    "                                               verbose=False)\n",
    "   \n",
    "    return pipe \n",
    "     \n",
    "pipe = get_pipeline(pred_params=pred_params,model_path=model_path)"
   ]
  },
  {
   "cell_type": "code",
   "execution_count": null,
   "id": "19d506fa",
   "metadata": {},
   "outputs": [],
   "source": [
    "def pXC50(smiles):\n",
    "    with contextlib.redirect_stdout(None):\n",
    "        pred_df = pipe.predict_on_smiles([smiles], AD_method='z_score')\n",
    "        pIC50 = pred_df['pred'][0]\n",
    "    return pIC50"
   ]
  },
  {
   "cell_type": "code",
   "execution_count": null,
   "id": "908050c9",
   "metadata": {},
   "outputs": [],
   "source": [
    "from tqdm.notebook import tqdm\n",
    "pXC50_dict = {}\n",
    "\n",
    "with tqdm(total=len(all_smiles)) as pbar:\n",
    "    for smiles in all_smiles:\n",
    "        pXC50_dict[smiles] = pXC50(smiles)\n",
    "        pbar.update(1)"
   ]
  },
  {
   "cell_type": "code",
   "execution_count": null,
   "id": "1ca185e4",
   "metadata": {},
   "outputs": [],
   "source": [
    "with open('pXC50_new_PARP_gen_with_pXC50_opt.pkl', 'wb') as handle:\n",
    "    pickle.dump(pXC50_dict, handle, protocol=pickle.HIGHEST_PROTOCOL)"
   ]
  },
  {
   "cell_type": "code",
   "execution_count": null,
   "id": "c5d166d4",
   "metadata": {},
   "outputs": [],
   "source": [
    "with open('pXC50_new_PARP_gen_with_pXC50_opt.pkl', \"rb\") as f:\n",
    "    loaded_pXC50_dict = pickle.load(f)"
   ]
  },
  {
   "cell_type": "code",
   "execution_count": null,
   "id": "130fc998",
   "metadata": {},
   "outputs": [],
   "source": [
    "len(loaded_pXC50_dict)"
   ]
  },
  {
   "cell_type": "code",
   "execution_count": null,
   "id": "437caf64",
   "metadata": {},
   "outputs": [],
   "source": [
    "for smiles in all_smiles:\n",
    "    print(loaded_pXC50_dict[smiles])"
   ]
  },
  {
   "cell_type": "markdown",
   "id": "36f46e3a",
   "metadata": {},
   "source": [
    "# Prediction"
   ]
  },
  {
   "cell_type": "code",
   "execution_count": null,
   "id": "17362a4f",
   "metadata": {},
   "outputs": [],
   "source": [
    "# import os\n",
    "# os.environ[\"CUDA_VISIBLE_DEVICES\"] = \"-1\"\n",
    "\n",
    "import warnings\n",
    "warnings.filterwarnings(action='once')\n",
    "warnings.simplefilter(\"ignore\")\n",
    "\n",
    "import timeit\n",
    "\n",
    "start = timeit.default_timer()\n",
    "\n",
    "#Your statements here\n",
    "\n",
    "import bionetgen\n",
    "import contextlib\n",
    "import os\n",
    "import pandas as pd\n",
    "\n",
    "import numpy as np\n",
    "\n",
    "import pickle\n",
    "\n",
    "from atomsci.ddm.pipeline import predict_from_model as pfm\n",
    "\n",
    "from multiprocessing import Pool"
   ]
  },
  {
   "cell_type": "code",
   "execution_count": null,
   "id": "e1888716",
   "metadata": {},
   "outputs": [],
   "source": [
    "def calc_therapeutic_score(pXC50):\n",
    "    with contextlib.redirect_stdout(None):\n",
    "        model = bionetgen.bngmodel(\"/home/alif/BioNetGen/Apopt Repair Toy Model 102521 v1.0.bngl\", 'model')\n",
    "        model.parameters.IC50 = 10 ** (6 - pXC50)\n",
    "        result = bionetgen.run(model)\n",
    "        therapeutic_score = result['Apopt Repair Toy Model 102521 v1.0'][-1][6]\n",
    "    \n",
    "    return therapeutic_score"
   ]
  },
  {
   "cell_type": "code",
   "execution_count": null,
   "id": "5274bbc8",
   "metadata": {},
   "outputs": [],
   "source": [
    "xc_path = \"/home/alif/JTVAE/updated_pXC50_predictor/PARP1_CGUAgg_2022-06_fingerprint_graphconv_model_4f296899-1e4f-4d08-a7c5-47ef64d7fec3.tar.gz\""
   ]
  },
  {
   "cell_type": "code",
   "execution_count": null,
   "id": "0130ea70",
   "metadata": {},
   "outputs": [],
   "source": [
    "model_path = xc_path\n",
    "smiles_col = 'smiles'\n",
    "response_col = 'pXC50'\n",
    "dont_standardize = True\n",
    "is_featurized = False"
   ]
  },
  {
   "cell_type": "code",
   "execution_count": null,
   "id": "e53a7426",
   "metadata": {},
   "outputs": [],
   "source": [
    "with open('/media/alif/Alif/Research(Yoon)/weighted-retraining/data/chem/zinc/orig_model/pen_logP_all.pkl', \"rb\") as f:\n",
    "    property_dict = pickle.load(f)"
   ]
  },
  {
   "cell_type": "code",
   "execution_count": null,
   "id": "bf450699",
   "metadata": {},
   "outputs": [],
   "source": [
    "all_smiles = list(property_dict.keys())\n",
    "\n",
    "all_smiles = all_smiles[:1000]"
   ]
  },
  {
   "cell_type": "code",
   "execution_count": null,
   "id": "4006bd83",
   "metadata": {},
   "outputs": [],
   "source": [
    "input_df = pd.DataFrame(all_smiles, columns = ['smiles'])"
   ]
  },
  {
   "cell_type": "code",
   "execution_count": null,
   "id": "3476509f",
   "metadata": {},
   "outputs": [],
   "source": [
    "pred_df = pfm.predict_from_model_file(model_path = model_path, \n",
    "                                      input_df=input_df, \n",
    "                                      smiles_col=smiles_col, \n",
    "                                      response_col=response_col,\n",
    "                                      dont_standardize=dont_standardize, \n",
    "                                      is_featurized = is_featurized, \n",
    "                                      AD_method='z_score')"
   ]
  },
  {
   "cell_type": "code",
   "execution_count": null,
   "id": "06a12872",
   "metadata": {},
   "outputs": [],
   "source": [
    "pXC50 = list(pred_df['activity_value_pred'])"
   ]
  },
  {
   "cell_type": "code",
   "execution_count": null,
   "id": "3fda6fa9",
   "metadata": {},
   "outputs": [],
   "source": [
    "therapeutic_score = [calc_therapeutic_score(pIC50) for pIC50 in pXC50]"
   ]
  },
  {
   "cell_type": "code",
   "execution_count": null,
   "id": "30940c5f",
   "metadata": {},
   "outputs": [],
   "source": [
    "# model = bionetgen.bngmodel(\"/home/alif/BioNetGen/Apopt Repair Toy Model 102521 v1.0.bngl\", 'model')"
   ]
  },
  {
   "cell_type": "code",
   "execution_count": null,
   "id": "766a5066",
   "metadata": {},
   "outputs": [],
   "source": [
    "# model.parameters.IC50 = 10 ** (6 - pXC50[0])"
   ]
  },
  {
   "cell_type": "code",
   "execution_count": null,
   "id": "0eeed0de",
   "metadata": {},
   "outputs": [],
   "source": [
    "# result = bionetgen.run(model)"
   ]
  },
  {
   "cell_type": "code",
   "execution_count": null,
   "id": "bb3e1e35",
   "metadata": {},
   "outputs": [],
   "source": [
    "pred_df"
   ]
  },
  {
   "cell_type": "code",
   "execution_count": null,
   "id": "bb89bb66",
   "metadata": {},
   "outputs": [],
   "source": [
    "if os.path.exists('test.txt'):\n",
    "    os.remove('test.txt')"
   ]
  },
  {
   "cell_type": "code",
   "execution_count": null,
   "id": "d0f281c2",
   "metadata": {},
   "outputs": [],
   "source": [
    "pXC50_dict = {}\n",
    "for smiles, pXC50 in zip(pred_df['smiles'], pred_df['activity_value_pred']):\n",
    "    pXC50_dict[smiles] = pXC50\n",
    "    with open('test.txt', 'a') as f:\n",
    "        f.writelines(smiles+': '+str(pXC50)+'\\n')"
   ]
  },
  {
   "cell_type": "code",
   "execution_count": null,
   "id": "cb25a8d2",
   "metadata": {},
   "outputs": [],
   "source": [
    "with open('pXC50.pkl', 'wb') as handle:\n",
    "    pickle.dump(pXC50_dict, handle, protocol=pickle.HIGHEST_PROTOCOL)"
   ]
  },
  {
   "cell_type": "code",
   "execution_count": null,
   "id": "b393e8aa",
   "metadata": {},
   "outputs": [],
   "source": [
    "with open('/media/alif/Alif/Research(Yoon)/PARP Inhibition/pXC50_new_PARP.pkl', \"rb\") as f:\n",
    "    property_dict = pickle.load(f)"
   ]
  },
  {
   "cell_type": "code",
   "execution_count": null,
   "id": "a0a01629",
   "metadata": {},
   "outputs": [],
   "source": [
    "max(property_dict.values())"
   ]
  },
  {
   "cell_type": "code",
   "execution_count": null,
   "id": "d2c706d2",
   "metadata": {},
   "outputs": [],
   "source": [
    "def calc_therapeutic_score(smiles):\n",
    "    with contextlib.redirect_stdout(None):\n",
    "        pXC50 = property_dict[smiles]\n",
    "        model = bionetgen.bngmodel(\"/media/alif/Alif/Research(Yoon)/BioNetGen/Apopt Repair Toy Model 102521 v1.0.bngl\", 'model')\n",
    "        model.parameters.IC50 = 10 ** (6 - pred_df['activity_value_pred'])\n",
    "        result = bionetgen.run(model)\n",
    "        therapeutic_score = result['Apopt Repair Toy Model 102521 v1.0'][-1][6]\n",
    "    \n",
    "    return therapeutic_score"
   ]
  },
  {
   "cell_type": "code",
   "execution_count": null,
   "id": "d0e5c6e6",
   "metadata": {},
   "outputs": [],
   "source": [
    "model = bionetgen.bngmodel(\"/media/alif/Alif/Research(Yoon)/BioNetGen/Apopt Repair Toy Model 102521 v1.0.bngl\", 'model')"
   ]
  },
  {
   "cell_type": "code",
   "execution_count": null,
   "id": "9db1cd62",
   "metadata": {},
   "outputs": [],
   "source": [
    "model.parameters.IC50 = 10 ** (6 - 1.47)"
   ]
  },
  {
   "cell_type": "code",
   "execution_count": null,
   "id": "22ee97b0",
   "metadata": {},
   "outputs": [],
   "source": [
    "result = bionetgen.run(model)"
   ]
  },
  {
   "cell_type": "code",
   "execution_count": null,
   "id": "672194dd",
   "metadata": {},
   "outputs": [],
   "source": [
    "therapeutic_score = result['Apopt Repair Toy Model 102521 v1.0'][-1][6]"
   ]
  },
  {
   "cell_type": "code",
   "execution_count": null,
   "id": "37809321",
   "metadata": {},
   "outputs": [],
   "source": [
    "therapeutic_score"
   ]
  },
  {
   "cell_type": "markdown",
   "id": "78d0a627",
   "metadata": {},
   "source": [
    "# Predict Quicker"
   ]
  },
  {
   "cell_type": "code",
   "execution_count": null,
   "id": "4428ac97",
   "metadata": {},
   "outputs": [],
   "source": [
    "import glob\n",
    "import numpy as np"
   ]
  },
  {
   "cell_type": "code",
   "execution_count": null,
   "id": "8ced8e09",
   "metadata": {},
   "outputs": [],
   "source": [
    "result_dir = \"/home/alif/JTVAE/sample-results\"\n",
    "res_files = glob.glob(result_dir+'/*.npz')"
   ]
  },
  {
   "cell_type": "code",
   "execution_count": null,
   "id": "335c5bbe",
   "metadata": {},
   "outputs": [],
   "source": [
    "all_smiles = []\n",
    "\n",
    "for res_file in res_files:\n",
    "    results = np.load(res_file, allow_pickle = True)\n",
    "\n",
    "    smiles = results['sample_points'].reshape((-1, ))\n",
    "\n",
    "    smiles = set(smiles)\n",
    "    if None in smiles:\n",
    "        smiles.remove(None)\n",
    "    print(res_file, len(smiles))\n",
    "    all_smiles.extend(list(smiles))"
   ]
  },
  {
   "cell_type": "code",
   "execution_count": null,
   "id": "cfec135a",
   "metadata": {},
   "outputs": [],
   "source": [
    "import bionetgen\n",
    "import contextlib\n",
    "import os\n",
    "import pandas as pd\n",
    "\n",
    "import numpy as np\n",
    "\n",
    "import pickle\n",
    "\n",
    "from atomsci.ddm.pipeline import predict_from_model as pfm"
   ]
  },
  {
   "cell_type": "code",
   "execution_count": null,
   "id": "55586661",
   "metadata": {},
   "outputs": [],
   "source": [
    "xc_path = \"/home/alif/JTVAE/updated_pXC50_predictor/PARP1_CGUAgg_2022-06_fingerprint_graphconv_model_4f296899-1e4f-4d08-a7c5-47ef64d7fec3.tar.gz\""
   ]
  },
  {
   "cell_type": "code",
   "execution_count": null,
   "id": "d9de08e4",
   "metadata": {},
   "outputs": [],
   "source": [
    "model_path = xc_path\n",
    "smiles_col = 'smiles'\n",
    "response_col = 'pXC50'\n",
    "dont_standardize = True\n",
    "is_featurized = False"
   ]
  },
  {
   "cell_type": "code",
   "execution_count": null,
   "id": "2d3bcbf0",
   "metadata": {},
   "outputs": [],
   "source": [
    "all_smiles = all_smiles[:1000]\n",
    "input_df = pd.DataFrame(all_smiles, columns = ['smiles'])"
   ]
  },
  {
   "cell_type": "code",
   "execution_count": null,
   "id": "25131085",
   "metadata": {},
   "outputs": [],
   "source": [
    "pred_df = pfm.predict_from_model_file(model_path = model_path, \n",
    "                                      input_df=input_df, \n",
    "                                      smiles_col=smiles_col, \n",
    "                                      response_col=response_col,\n",
    "                                      dont_standardize=dont_standardize, \n",
    "                                      is_featurized = is_featurized, \n",
    "                                      AD_method='z_score')"
   ]
  },
  {
   "cell_type": "code",
   "execution_count": null,
   "id": "6d54be43",
   "metadata": {},
   "outputs": [],
   "source": [
    "pXC50_dict = {}\n",
    "for smiles, pXC50 in zip(pred_df['smiles'], pred_df['activity_value_pred']):\n",
    "    pXC50_dict[smiles] = pXC50\n",
    "#     with open('test.txt', 'a') as f:\n",
    "#         f.writelines(smiles+': '+str(pXC50)+'\\n')"
   ]
  },
  {
   "cell_type": "code",
   "execution_count": null,
   "id": "ce77d498",
   "metadata": {},
   "outputs": [],
   "source": [
    "pXC50_dict"
   ]
  },
  {
   "cell_type": "code",
   "execution_count": null,
   "id": "6318bf83",
   "metadata": {},
   "outputs": [],
   "source": [
    "with open('gen_pXC50.pkl', 'wb') as handle:\n",
    "    pickle.dump(pXC50_dict, handle, protocol=pickle.HIGHEST_PROTOCOL)"
   ]
  },
  {
   "cell_type": "code",
   "execution_count": null,
   "id": "f98041e8",
   "metadata": {},
   "outputs": [],
   "source": []
  }
 ],
 "metadata": {
  "kernelspec": {
   "display_name": "GMD",
   "language": "python",
   "name": "gmd"
  },
  "language_info": {
   "codemirror_mode": {
    "name": "ipython",
    "version": 3
   },
   "file_extension": ".py",
   "mimetype": "text/x-python",
   "name": "python",
   "nbconvert_exporter": "python",
   "pygments_lexer": "ipython3",
   "version": "3.7.10"
  }
 },
 "nbformat": 4,
 "nbformat_minor": 5
}
